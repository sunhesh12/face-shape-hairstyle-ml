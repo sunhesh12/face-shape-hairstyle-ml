{
 "cells": [
  {
   "cell_type": "markdown",
   "id": "f2419f10",
   "metadata": {},
   "source": [
    "Import Libraries & Load Dataset"
   ]
  },
  {
   "cell_type": "code",
   "execution_count": 99,
   "id": "08b859ae",
   "metadata": {},
   "outputs": [],
   "source": [
    "import pandas as pd\n",
    "from sklearn.model_selection import train_test_split, GridSearchCV\n",
    "from sklearn.tree import DecisionTreeClassifier\n",
    "from sklearn.preprocessing import StandardScaler\n",
    "from sklearn.metrics import classification_report, accuracy_score"
   ]
  },
  {
   "cell_type": "markdown",
   "id": "2b5ba853",
   "metadata": {},
   "source": [
    "Prepare Data"
   ]
  },
  {
   "cell_type": "code",
   "execution_count": 100,
   "id": "691a01f0",
   "metadata": {},
   "outputs": [],
   "source": [
    "# Load dataset\n",
    "df = pd.read_csv(\"synthetic_face_shape_dataset_2000.csv\")\n",
    "\n",
    "# Define features and target using correct column names\n",
    "X = df[['forehead width (cm)', 'jaw width (cm)', 'face length (cm)', 'face width (cm)']]  # Numerical features\n",
    "y = df['face shape']  # Target label\n"
   ]
  },
  {
   "cell_type": "markdown",
   "id": "af3b5e14",
   "metadata": {},
   "source": [
    "Train-Test Split and Scaling"
   ]
  },
  {
   "cell_type": "code",
   "execution_count": 101,
   "id": "73bebc8d",
   "metadata": {},
   "outputs": [],
   "source": [
    "# Split data\n",
    "X_train, X_test, y_train, y_test = train_test_split(X, y, test_size=0.2, random_state=42)\n",
    "\n",
    "# Feature scaling\n",
    "scaler = StandardScaler()\n",
    "X_train_scaled = scaler.fit_transform(X_train)\n",
    "X_test_scaled = scaler.transform(X_test)\n"
   ]
  },
  {
   "cell_type": "markdown",
   "id": "fa666c0b",
   "metadata": {},
   "source": [
    "Train Decision Tree with GridSearchCV"
   ]
  },
  {
   "cell_type": "code",
   "execution_count": 102,
   "id": "ff46728b",
   "metadata": {},
   "outputs": [
    {
     "name": "stdout",
     "output_type": "stream",
     "text": [
      "Fitting 5 folds for each of 24 candidates, totalling 120 fits\n",
      "Best Parameters: {'criterion': 'entropy', 'max_depth': 5, 'min_samples_split': 2}\n"
     ]
    }
   ],
   "source": [
    "param_grid = {\n",
    "    'max_depth': [3, 5, 10, None],\n",
    "    'min_samples_split': [2, 5, 10],\n",
    "    'criterion': ['gini', 'entropy']\n",
    "}\n",
    "\n",
    "grid_search = GridSearchCV(\n",
    "    DecisionTreeClassifier(random_state=42), param_grid, cv=5, scoring='accuracy', verbose=1, n_jobs=-1\n",
    ")\n",
    "grid_search.fit(X_train_scaled, y_train)\n",
    "\n",
    "tree_model = grid_search.best_estimator_\n",
    "print(\"Best Parameters:\", grid_search.best_params_)\n"
   ]
  },
  {
   "cell_type": "markdown",
   "id": "ce283002",
   "metadata": {},
   "source": [
    "Evaluate Model"
   ]
  },
  {
   "cell_type": "code",
   "execution_count": 103,
   "id": "a062dc3d",
   "metadata": {},
   "outputs": [
    {
     "name": "stdout",
     "output_type": "stream",
     "text": [
      "Accuracy: 0.7675\n",
      "              precision    recall  f1-score   support\n",
      "\n",
      "     Diamond       0.57      0.90      0.70        52\n",
      "       Heart       0.82      0.79      0.80        70\n",
      "      Oblong       0.95      0.87      0.91        86\n",
      "        Oval       0.83      0.85      0.84        59\n",
      "       Round       0.68      0.58      0.63        65\n",
      "      Square       0.75      0.62      0.68        68\n",
      "\n",
      "    accuracy                           0.77       400\n",
      "   macro avg       0.77      0.77      0.76       400\n",
      "weighted avg       0.78      0.77      0.77       400\n",
      "\n"
     ]
    }
   ],
   "source": [
    "y_pred = tree_model.predict(X_test_scaled)\n",
    "print(\"Accuracy:\", accuracy_score(y_test, y_pred))\n",
    "print(classification_report(y_test, y_pred))\n"
   ]
  },
  {
   "cell_type": "markdown",
   "id": "e8e1c650",
   "metadata": {},
   "source": [
    "Predict Face Shape From Input"
   ]
  },
  {
   "cell_type": "code",
   "execution_count": 104,
   "id": "97773d84",
   "metadata": {},
   "outputs": [
    {
     "name": "stdout",
     "output_type": "stream",
     "text": [
      "Predicted Face Shape: Oval\n"
     ]
    }
   ],
   "source": [
    "# Function to predict face shape\n",
    "def predict_face_shape(input_features):\n",
    "    input_df = pd.DataFrame([input_features], columns=[\n",
    "        'forehead width (cm)', 'jaw width (cm)', 'face length (cm)', 'face width (cm)'\n",
    "    ])\n",
    "    scaled_input = scaler.transform(input_df)\n",
    "    return tree_model.predict(scaled_input)[0]\n",
    "\n",
    "# Example input\n",
    "# new_face = [13.8, 13.2, 17.9, 15.0]  # Example with correct order and units\n",
    "new_face = [14.6,10.2,17.8,12.9]  # Make sure these values are in the same order and units as your training data\n",
    "predicted_shape = predict_face_shape(new_face)\n",
    "print(\"Predicted Face Shape:\", predicted_shape)\n"
   ]
  },
  {
   "cell_type": "markdown",
   "id": "3b4eff78",
   "metadata": {},
   "source": [
    "Recommend Hairstyle Based on Face Shape"
   ]
  },
  {
   "cell_type": "code",
   "execution_count": 105,
   "id": "9a797fcf",
   "metadata": {},
   "outputs": [
    {
     "name": "stdout",
     "output_type": "stream",
     "text": [
      "Recommended Hairstyle: Long Layers\n"
     ]
    }
   ],
   "source": [
    "# Clean column names\n",
    "df.columns = df.columns.str.strip()\n",
    "\n",
    "# Rule-based hairstyle map\n",
    "face_to_hairstyle = df.drop_duplicates(subset=['face shape'])[['face shape', 'best hairstyle']].set_index('face shape')['best hairstyle'].to_dict()\n",
    "\n",
    "# Predict shape (example: predicted_shape = 'oval')\n",
    "recommended_hairstyle = face_to_hairstyle.get(predicted_shape, \"No suggestions\")\n",
    "print(\"Recommended Hairstyle:\", recommended_hairstyle)\n",
    "\n"
   ]
  }
 ],
 "metadata": {
  "kernelspec": {
   "display_name": "Python 3",
   "language": "python",
   "name": "python3"
  },
  "language_info": {
   "codemirror_mode": {
    "name": "ipython",
    "version": 3
   },
   "file_extension": ".py",
   "mimetype": "text/x-python",
   "name": "python",
   "nbconvert_exporter": "python",
   "pygments_lexer": "ipython3",
   "version": "3.12.10"
  }
 },
 "nbformat": 4,
 "nbformat_minor": 5
}
