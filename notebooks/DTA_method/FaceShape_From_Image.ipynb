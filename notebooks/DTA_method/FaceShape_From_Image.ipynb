{
 "cells": [
  {
   "cell_type": "code",
   "execution_count": null,
   "id": "59a2f5d3",
   "metadata": {},
   "outputs": [
    {
     "ename": "ModuleNotFoundError",
     "evalue": "No module named 'dlib'",
     "output_type": "error",
     "traceback": [
      "\u001b[31m---------------------------------------------------------------------------\u001b[39m",
      "\u001b[31mModuleNotFoundError\u001b[39m                       Traceback (most recent call last)",
      "\u001b[36mCell\u001b[39m\u001b[36m \u001b[39m\u001b[32mIn[1]\u001b[39m\u001b[32m, line 2\u001b[39m\n\u001b[32m      1\u001b[39m \u001b[38;5;28;01mimport\u001b[39;00m \u001b[34;01mcv2\u001b[39;00m\n\u001b[32m----> \u001b[39m\u001b[32m2\u001b[39m \u001b[38;5;28;01mimport\u001b[39;00m \u001b[34;01mdlib\u001b[39;00m\n\u001b[32m      3\u001b[39m \u001b[38;5;28;01mimport\u001b[39;00m \u001b[34;01mnumpy\u001b[39;00m \u001b[38;5;28;01mas\u001b[39;00m \u001b[34;01mnp\u001b[39;00m\n\u001b[32m      5\u001b[39m \u001b[38;5;66;03m# Load detector and shape predictor\u001b[39;00m\n",
      "\u001b[31mModuleNotFoundError\u001b[39m: No module named 'dlib'"
     ]
    }
   ],
   "source": [
    "import cv2\n",
    "import dlib\n",
    "import numpy as np\n",
    "\n",
    "# Load detector and shape predictor\n",
    "detector = dlib.get_frontal_face_detector()\n",
    "predictor = dlib.shape_predictor(\"shape_predictor_68_face_landmarks.dat\")\n",
    "\n",
    "# Load image\n",
    "image = cv2.imread(\"kirula.png\")\n",
    "gray = cv2.cvtColor(image, cv2.COLOR_BGR2GRAY)\n",
    "\n",
    "# Detect face\n",
    "faces = detector(gray)\n",
    "\n",
    "def get_face_shape(landmarks):\n",
    "    # Example calculations (simplified)\n",
    "    jaw_width = np.linalg.norm(landmarks[0] - landmarks[16])\n",
    "    forehead_width = np.linalg.norm(landmarks[17] - landmarks[26])\n",
    "    face_length = np.linalg.norm(landmarks[8] - ((landmarks[19] + landmarks[24]) / 2))\n",
    "\n",
    "    # Use simple rules to classify (you can improve with ML)\n",
    "    if face_length > jaw_width and forehead_width < jaw_width:\n",
    "        return \"Oval\"\n",
    "    elif jaw_width > face_length:\n",
    "        return \"Round\"\n",
    "    elif abs(jaw_width - forehead_width) < 10:\n",
    "        return \"Square\"\n",
    "    else:\n",
    "        return \"Unknown\"\n",
    "\n",
    "for face in faces:\n",
    "    landmarks = predictor(gray, face)\n",
    "    landmarks_np = np.array([[p.x, p.y] for p in landmarks.parts()])\n",
    "    \n",
    "    face_shape = get_face_shape(landmarks_np)\n",
    "    \n",
    "    print(\"Detected Face Shape:\", face_shape)\n",
    "\n",
    "    # Draw landmarks (optional)\n",
    "    for (x, y) in landmarks_np:\n",
    "        cv2.circle(image, (x, y), 2, (0, 255, 0), -1)\n",
    "\n",
    "# Show image\n",
    "cv2.imshow(\"Face Landmarks\", image)\n",
    "cv2.waitKey(0)\n",
    "cv2.destroyAllWindows()\n"
   ]
  }
 ],
 "metadata": {
  "kernelspec": {
   "display_name": "Python 3",
   "language": "python",
   "name": "python3"
  },
  "language_info": {
   "codemirror_mode": {
    "name": "ipython",
    "version": 3
   },
   "file_extension": ".py",
   "mimetype": "text/x-python",
   "name": "python",
   "nbconvert_exporter": "python",
   "pygments_lexer": "ipython3",
   "version": "3.12.10"
  }
 },
 "nbformat": 4,
 "nbformat_minor": 5
}
