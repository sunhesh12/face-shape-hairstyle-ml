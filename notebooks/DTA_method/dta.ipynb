{
 "cells": [
  {
   "cell_type": "code",
   "execution_count": null,
   "id": "ecaa40c2",
   "metadata": {},
   "outputs": [],
   "source": [
    "#import library for the project\n",
    "import sys;\n",
    "import numpy as np;\n",
    "import matplotlib.pyplot as plt;\n",
    "import pandas as pd;\n"
   ]
  },
  {
   "cell_type": "code",
   "execution_count": null,
   "id": "9f2a88e8",
   "metadata": {},
   "outputs": [],
   "source": [
    "# add basic code finding the path of the project\n",
    "def classify_face_shape(fw, jw, cbw, fl):\n",
    "    flwr = fl / cbw\n",
    "    \n",
    "    if flwr > 1.5:\n",
    "        if jw < cbw:\n",
    "            return \"Oval\"\n",
    "        else:\n",
    "            return \"Oblong\"\n",
    "    else:\n",
    "        if abs(fw - jw) < 1 and abs(jw - cbw) < 1:\n",
    "            return \"Round\"\n",
    "        elif fw > jw:\n",
    "            return \"Heart\"\n",
    "        elif jw > fw:\n",
    "            return \"Square\"\n",
    "        else:\n",
    "            return \"Diamond\"\n",
    "\n",
    "# Example usage:\n",
    "shape = classify_face_shape(fw=14, jw=13, cbw=14.5, fl=22)\n",
    "print(\"Detected Face Shape:\", shape)\n"
   ]
  }
 ],
 "metadata": {
  "kernelspec": {
   "display_name": "Python 3",
   "language": "python",
   "name": "python3"
  },
  "language_info": {
   "codemirror_mode": {
    "name": "ipython",
    "version": 3
   },
   "file_extension": ".py",
   "mimetype": "text/x-python",
   "name": "python",
   "nbconvert_exporter": "python",
   "pygments_lexer": "ipython3",
   "version": "3.12.10"
  }
 },
 "nbformat": 4,
 "nbformat_minor": 5
}
